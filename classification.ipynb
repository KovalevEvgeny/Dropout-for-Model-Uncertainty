{
 "cells": [
  {
   "cell_type": "code",
   "execution_count": 9,
   "metadata": {},
   "outputs": [
    {
     "name": "stdout",
     "output_type": "stream",
     "text": [
      "cuda:0\n"
     ]
    }
   ],
   "source": [
    "import matplotlib.pyplot as plt\n",
    "import numpy as np\n",
    "import os\n",
    "import random\n",
    "import torch\n",
    "import torch.nn as nn\n",
    "import torch.nn.functional as F\n",
    "import torch.optim as optim\n",
    "from collections import OrderedDict\n",
    "from IPython import display\n",
    "from torchvision import datasets, models, transforms\n",
    "from tqdm import trange\n",
    "\n",
    "%matplotlib inline\n",
    "\n",
    "device = torch.device(\"cuda:0\" if torch.cuda.is_available() else \"cpu\")\n",
    "print(device)"
   ]
  },
  {
   "cell_type": "code",
   "execution_count": 2,
   "metadata": {
    "collapsed": true
   },
   "outputs": [],
   "source": [
    "# https://github.com/activatedgeek/LeNet-5/blob/master/lenet.py\n",
    "class LeNet5(nn.Module):\n",
    "    \"\"\"\n",
    "    Input - 1x32x32\n",
    "    C1 - 6@28x28 (5x5 kernel)\n",
    "    tanh\n",
    "    S2 - 6@14x14 (2x2 kernel, stride 2) Subsampling\n",
    "    C3 - 16@10x10 (5x5 kernel, complicated shit)\n",
    "    tanh\n",
    "    S4 - 16@5x5 (2x2 kernel, stride 2) Subsampling\n",
    "    C5 - 120@1x1 (5x5 kernel)\n",
    "    F6 - 84\n",
    "    tanh\n",
    "    F7 - 10 (Output)\n",
    "    \"\"\"\n",
    "    def __init__(self, p=0.5):\n",
    "        super(LeNet5, self).__init__()\n",
    "\n",
    "        self.convnet = nn.Sequential(OrderedDict([\n",
    "            ('c1', nn.Conv2d(1, 6, kernel_size=(5, 5), padding=2)),\n",
    "            ('relu1', nn.ReLU()),\n",
    "            ('s2', nn.MaxPool2d(kernel_size=(2, 2), stride=2)),\n",
    "            ('c3', nn.Conv2d(6, 16, kernel_size=(5, 5), padding=2)),\n",
    "            ('relu3', nn.ReLU()),\n",
    "            ('s4', nn.MaxPool2d(kernel_size=(2, 2), stride=2)),\n",
    "            ('c5', nn.Conv2d(16, 120, kernel_size=(5, 5))),\n",
    "            ('relu5', nn.ReLU())\n",
    "        ]))\n",
    "\n",
    "        self.fc = nn.Sequential(OrderedDict([\n",
    "            ('f6', nn.Linear(1080, 84)),\n",
    "            ('relu6', nn.ReLU()),\n",
    "            ('dropout6', nn.Dropout(p)),\n",
    "            ('f7', nn.Linear(84, 10)),\n",
    "            ('sig7', nn.LogSoftmax(dim=-1))\n",
    "        ]))\n",
    "\n",
    "    def forward(self, img):\n",
    "        output = self.convnet(img)\n",
    "        output = output.view(img.size(0), -1)\n",
    "        output = self.fc(output)\n",
    "        return output"
   ]
  },
  {
   "cell_type": "code",
   "execution_count": 3,
   "metadata": {},
   "outputs": [
    {
     "name": "stdout",
     "output_type": "stream",
     "text": [
      "60000 10000\n",
      "torch.Size([32, 1, 28, 28]) torch.Size([32])\n"
     ]
    }
   ],
   "source": [
    "def set_random_seeds(seed_value=0, device='cpu'):\n",
    "    '''source https://forums.fast.ai/t/solved-reproducibility-where-is-the-randomness-coming-in/31628/5'''\n",
    "    np.random.seed(seed_value)\n",
    "    torch.manual_seed(seed_value)\n",
    "    random.seed(seed_value)\n",
    "    if device != 'cpu': \n",
    "        torch.cuda.manual_seed(seed_value)\n",
    "        torch.cuda.manual_seed_all(seed_value)\n",
    "        torch.backends.cudnn.deterministic = True\n",
    "        torch.backends.cudnn.benchmark = False\n",
    "\n",
    "batch_size = 32\n",
    "\n",
    "train_loader = torch.utils.data.DataLoader(\n",
    "    datasets.MNIST('.', train=True, download=True,\n",
    "                   transform=transforms.Compose([\n",
    "                       transforms.ToTensor(),\n",
    "                       transforms.Normalize((0.1307,), (0.3081,))\n",
    "                   ])),\n",
    "    batch_size=batch_size, shuffle=True)\n",
    "test_loader = torch.utils.data.DataLoader(\n",
    "    datasets.MNIST('.', train=False, transform=transforms.Compose([\n",
    "                       transforms.ToTensor(),\n",
    "                       transforms.Normalize((0.1307,), (0.3081,))\n",
    "                   ])),\n",
    "    batch_size=batch_size, shuffle=False)\n",
    "\n",
    "train_size = len(train_loader.dataset)\n",
    "test_size = len(test_loader.dataset)\n",
    "\n",
    "print(train_size, test_size)\n",
    "\n",
    "for x, y in train_loader:\n",
    "    print(x.size(), y.size())\n",
    "    break"
   ]
  },
  {
   "cell_type": "code",
   "execution_count": 4,
   "metadata": {},
   "outputs": [],
   "source": [
    "def train(model, optimizer, scheduler, train_loader, val_loader, device, MODEL_PATH, PLOT_PATH, epochs_n=20, batch_size=32):\n",
    "    model.to(device)\n",
    "    \n",
    "    train_loss_curve = [np.nan] * epochs_n\n",
    "    val_loss_curve = [np.nan] * epochs_n\n",
    "    train_accuracy_curve = [np.nan] * epochs_n\n",
    "    val_accuracy_curve = [np.nan] * epochs_n\n",
    "    max_val_accuracy = 0\n",
    "    max_val_accuracy_epoch = 0\n",
    "\n",
    "    train_size = len(train_loader.dataset)\n",
    "    val_size = len(val_loader.dataset)\n",
    "\n",
    "    n_batches_train = (train_size - 1) // batch_size + 1\n",
    "    n_batches_val = (val_size - 1) // batch_size + 1\n",
    "\n",
    "    for epoch in trange(epochs_n):\n",
    "        model.train()\n",
    "\n",
    "        train_loss_curve[epoch] = 0\n",
    "        train_accuracy_curve[epoch] = 0\n",
    "        \n",
    "        for x, y in train_loader:\n",
    "            x = x.to(device)\n",
    "            y = y.to(device)\n",
    "            optimizer.zero_grad()\n",
    "            prediction = model(x)\n",
    "            \n",
    "            labels_pred = prediction.argmax(dim=-1, keepdim=True).view(-1)\n",
    "            train_accuracy_curve[epoch] += labels_pred.eq(y).sum().item() / len(y)\n",
    "            \n",
    "            loss = F.nll_loss(prediction, y)\n",
    "            train_loss_curve[epoch] += loss.item()\n",
    "            loss.backward()\n",
    "            optimizer.step()\n",
    "        \n",
    "        train_accuracy_curve[epoch] /= n_batches_train\n",
    "\n",
    "        display.clear_output(wait=True)\n",
    "        f, axes = plt.subplots(1, 2, figsize=(15, 5))\n",
    "\n",
    "        train_loss_curve[epoch] /= n_batches_train\n",
    "        axes[0].plot(train_loss_curve, label='train')\n",
    "\n",
    "        model.eval()\n",
    "\n",
    "        val_loss_curve[epoch] = 0\n",
    "        val_accuracy_curve[epoch] = 0\n",
    "        with torch.no_grad():\n",
    "            for x, y in val_loader:\n",
    "                x = x.to(device)\n",
    "                y = y.to(device)\n",
    "                prediction = model(x)\n",
    "\n",
    "                labels_pred = prediction.argmax(dim=-1, keepdim=True).view(-1)\n",
    "                val_accuracy_curve[epoch] += labels_pred.eq(y).sum().item() / len(y)\n",
    "\n",
    "                loss = F.nll_loss(prediction, y)\n",
    "                val_loss_curve[epoch] += loss.item()\n",
    "        \n",
    "        scheduler.step()\n",
    "        \n",
    "        val_accuracy_curve[epoch] /= n_batches_val\n",
    "        val_loss_curve[epoch] /= n_batches_val\n",
    "        axes[0].plot(val_loss_curve, label='val')\n",
    "        axes[0].set_title('Loss: train {:.4f}, val {:.4f}'.format(train_loss_curve[epoch], val_loss_curve[epoch]))\n",
    "        axes[0].legend()\n",
    "        axes[0].set_xlabel('epochs')\n",
    "        axes[0].set_ylabel('loss')\n",
    "        \n",
    "        val_accuracy = val_accuracy_curve[epoch]\n",
    "        if val_accuracy > max_val_accuracy:\n",
    "            max_val_accuracy = val_accuracy\n",
    "            max_val_accuracy_epoch = epoch\n",
    "            torch.save(model.state_dict(), MODEL_PATH)\n",
    "        \n",
    "        axes[1].set_title('Accuracy: train {:.4f}, val {:.4f}'.format(train_accuracy_curve[epoch], val_accuracy))\n",
    "        axes[1].plot(train_accuracy_curve, label='train')\n",
    "        axes[1].plot(val_accuracy_curve, label='val')\n",
    "        axes[1].legend()\n",
    "        axes[1].set_xlabel('epochs')\n",
    "        axes[1].set_ylabel('accuracy')\n",
    "\n",
    "        plt.tight_layout()\n",
    "        if epoch == epochs_n - 1:\n",
    "            plt.savefig(PLOT_PATH)\n",
    "        plt.show()\n",
    "    \n",
    "    return np.array(train_loss_curve), np.array(val_loss_curve), np.array(train_accuracy_curve),\\\n",
    "            np.array(val_accuracy_curve), max_val_accuracy, max_val_accuracy_epoch"
   ]
  },
  {
   "cell_type": "markdown",
   "metadata": {},
   "source": [
    "### LeNet: p=0.5 (as in the paper)"
   ]
  },
  {
   "cell_type": "code",
   "execution_count": 5,
   "metadata": {},
   "outputs": [
    {
     "data": {
      "image/png": "[encoded data removed]",
      "text/plain": [
       "<Figure size 1080x360 with 2 Axes>"
      ]
     },
     "metadata": {
      "needs_background": "light"
     },
     "output_type": "display_data"
    },
    {
     "name": "stderr",
     "output_type": "stream",
     "text": [
      "100%|████████████████████████████████████████████████████████████████████████████████████| 1/1 [00:19<00:00, 19.95s/it]\n"
     ]
    },
    {
     "name": "stdout",
     "output_type": "stream",
     "text": [
      "Max accuracy: 0.983926 at epoch 0\n"
     ]
    }
   ],
   "source": [
    "set_random_seeds(13, device)\n",
    "\n",
    "lr = 0.01\n",
    "epochs_n = 500\n",
    "momentum = 0.9\n",
    "weight_decay = 1e-6\n",
    "\n",
    "model_name = 'lenet_dropout_0-5'\n",
    "model_path = 'models/{}.pt'.format(model_name)\n",
    "plot_path = 'logs/{}_logs.png'.format(model_name)\n",
    "\n",
    "model = LeNet5(p=0.5).to(device)\n",
    "optimizer = optim.SGD(model.parameters(), lr=lr, momentum=momentum, weight_decay=weight_decay)\n",
    "\n",
    "def lr_policy(epoch):\n",
    "    return (1 + 0.0001 * epoch)**(-0.75)\n",
    "\n",
    "scheduler = optim.lr_scheduler.LambdaLR(optimizer, lr_lambda=lr_policy)\n",
    "\n",
    "train_loss_curve, test_loss_curve, train_accuracy_curve, test_accuracy_curve, max_test_accuracy, max_test_accuracy_epoch = \\\n",
    "       train(model, optimizer, scheduler, train_loader, test_loader, device, model_path, plot_path, epochs_n, batch_size)\n",
    "\n",
    "LOG_DIR = 'logs'\n",
    "np.save(os.path.join(LOG_DIR, '{}_train_loss.npy'.format(model_name)), train_loss_curve)\n",
    "np.save(os.path.join(LOG_DIR, '{}_test_loss.npy'.format(model_name)), test_loss_curve)\n",
    "np.save(os.path.join(LOG_DIR, '{}_train_accuracy.npy'.format(model_name)), train_accuracy_curve)\n",
    "np.save(os.path.join(LOG_DIR, '{}_test_accuracy.npy'.format(model_name)), test_accuracy_curve)\n",
    "print('Max accuracy: {:.6f} at epoch {}'.format(max_test_accuracy, max_test_accuracy_epoch))"
   ]
  },
  {
   "cell_type": "markdown",
   "metadata": {},
   "source": [
    "### LeNet: p=0.25"
   ]
  },
  {
   "cell_type": "code",
   "execution_count": 6,
   "metadata": {},
   "outputs": [
    {
     "data": {
      "image/png": "[encoded data removed]",
      "text/plain": [
       "<Figure size 1080x360 with 2 Axes>"
      ]
     },
     "metadata": {
      "needs_background": "light"
     },
     "output_type": "display_data"
    },
    {
     "name": "stderr",
     "output_type": "stream",
     "text": [
      "100%|████████████████████████████████████████████████████████████████████████████████████| 1/1 [00:18<00:00, 18.45s/it]\n"
     ]
    },
    {
     "name": "stdout",
     "output_type": "stream",
     "text": [
      "Max accuracy: 0.983826 at epoch 0\n"
     ]
    }
   ],
   "source": [
    "set_random_seeds(13, device)\n",
    "\n",
    "lr = 0.01\n",
    "epochs_n = 500\n",
    "momentum = 0.9\n",
    "weight_decay = 1e-6\n",
    "\n",
    "model_name = 'lenet_dropout_0-25'\n",
    "model_path = 'models/{}.pt'.format(model_name)\n",
    "plot_path = 'logs/{}_logs.png'.format(model_name)\n",
    "\n",
    "model = LeNet5(p=0.25).to(device)\n",
    "optimizer = optim.SGD(model.parameters(), lr=lr, momentum=momentum, weight_decay=weight_decay)\n",
    "\n",
    "def lr_policy(epoch):\n",
    "    return (1 + 0.0001 * epoch)**(-0.75)\n",
    "\n",
    "scheduler = optim.lr_scheduler.LambdaLR(optimizer, lr_lambda=lr_policy)\n",
    "\n",
    "train_loss_curve, test_loss_curve, train_accuracy_curve, test_accuracy_curve, max_test_accuracy, max_test_accuracy_epoch = \\\n",
    "       train(model, optimizer, scheduler, train_loader, test_loader, device, model_path, plot_path, epochs_n, batch_size)\n",
    "\n",
    "LOG_DIR = 'logs'\n",
    "np.save(os.path.join(LOG_DIR, '{}_train_loss.npy'.format(model_name)), train_loss_curve)\n",
    "np.save(os.path.join(LOG_DIR, '{}_test_loss.npy'.format(model_name)), test_loss_curve)\n",
    "np.save(os.path.join(LOG_DIR, '{}_train_accuracy.npy'.format(model_name)), train_accuracy_curve)\n",
    "np.save(os.path.join(LOG_DIR, '{}_test_accuracy.npy'.format(model_name)), test_accuracy_curve)\n",
    "print('Max accuracy: {:.6f} at epoch {}'.format(max_test_accuracy, max_test_accuracy_epoch))"
   ]
  },
  {
   "cell_type": "markdown",
   "metadata": {},
   "source": [
    "### LeNet: p=0.75"
   ]
  },
  {
   "cell_type": "code",
   "execution_count": 7,
   "metadata": {},
   "outputs": [
    {
     "data": {
      "image/png": "[encoded data removed]",
      "text/plain": [
       "<Figure size 1080x360 with 2 Axes>"
      ]
     },
     "metadata": {
      "needs_background": "light"
     },
     "output_type": "display_data"
    },
    {
     "name": "stderr",
     "output_type": "stream",
     "text": [
      "100%|████████████████████████████████████████████████████████████████████████████████████| 1/1 [00:18<00:00, 18.56s/it]\n"
     ]
    },
    {
     "name": "stdout",
     "output_type": "stream",
     "text": [
      "Max accuracy: 0.980531 at epoch 0\n"
     ]
    }
   ],
   "source": [
    "set_random_seeds(13, device)\n",
    "\n",
    "lr = 0.01\n",
    "epochs_n = 500\n",
    "momentum = 0.9\n",
    "weight_decay = 1e-6\n",
    "\n",
    "model_name = 'lenet_dropout_0-75'\n",
    "model_path = 'models/{}.pt'.format(model_name)\n",
    "plot_path = 'logs/{}_logs.png'.format(model_name)\n",
    "\n",
    "model = LeNet5(p=0.75).to(device)\n",
    "optimizer = optim.SGD(model.parameters(), lr=lr, momentum=momentum, weight_decay=weight_decay)\n",
    "\n",
    "def lr_policy(epoch):\n",
    "    return (1 + 0.0001 * epoch)**(-0.75)\n",
    "\n",
    "scheduler = optim.lr_scheduler.LambdaLR(optimizer, lr_lambda=lr_policy)\n",
    "\n",
    "train_loss_curve, test_loss_curve, train_accuracy_curve, test_accuracy_curve, max_test_accuracy, max_test_accuracy_epoch = \\\n",
    "       train(model, optimizer, scheduler, train_loader, test_loader, device, model_path, plot_path, epochs_n, batch_size)\n",
    "\n",
    "LOG_DIR = 'logs'\n",
    "np.save(os.path.join(LOG_DIR, '{}_train_loss.npy'.format(model_name)), train_loss_curve)\n",
    "np.save(os.path.join(LOG_DIR, '{}_test_loss.npy'.format(model_name)), test_loss_curve)\n",
    "np.save(os.path.join(LOG_DIR, '{}_train_accuracy.npy'.format(model_name)), train_accuracy_curve)\n",
    "np.save(os.path.join(LOG_DIR, '{}_test_accuracy.npy'.format(model_name)), test_accuracy_curve)\n",
    "print('Max accuracy: {:.6f} at epoch {}'.format(max_test_accuracy, max_test_accuracy_epoch))"
   ]
  }
 ],
 "metadata": {
  "kernelspec": {
   "display_name": "Python 3",
   "language": "python",
   "name": "python3"
  },
  "language_info": {
   "codemirror_mode": {
    "name": "ipython",
    "version": 3
   },
   "file_extension": ".py",
   "mimetype": "text/x-python",
   "name": "python",
   "nbconvert_exporter": "python",
   "pygments_lexer": "ipython3",
   "version": "3.6.3"
  }
 },
 "nbformat": 4,
 "nbformat_minor": 2
}
